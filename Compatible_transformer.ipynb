{
 "cells": [
  {
   "cell_type": "code",
   "execution_count": null,
   "id": "a83f674f-b855-446f-8dab-13b86d0bcb11",
   "metadata": {},
   "outputs": [],
   "source": [
    "import pandas as pd\n",
    "import numpy as np\n",
    "\n",
    "from sklearn.base import BaseEstimator, TransformerMixin\n",
    "\n",
    "class TemporalVariableTransformer(BaseEstimator, TransformerMixin):\n",
    "    # Temporal elapsed time transformer:\n",
    "    \n",
    "    def __init__(self, variables, reference_variable):\n",
    "        \n",
    "        if not isinstance(variables, list):\n",
    "            raise ValueError('variables should be a list')\n",
    "            \n",
    "            self.variables = variables\n",
    "            self.reference_variable = reference_variable\n",
    "            \n",
    "    def fit(self, X, y=None):\n",
    "        # We need this step to fit the sklearn pipeline:\n",
    "        return self\n",
    "    \n",
    "    def transform(self, X):\n",
    "        \n",
    "        # So that we do not over-write the original dataframe:\n",
    "        X = X.copy()\n",
    "        \n",
    "        for feature in self.variables:\n",
    "            X[feature] = X[self.reference_variable] - X[feature]\n",
    "            \n",
    "        return X \n",
    "    \n",
    "# Categorical missing value imputer:\n",
    "class Mapper(BaseEstimator, TransformerMixin):\n",
    "    \n",
    "    def __init__(self, variables, mappings):\n",
    "        \n",
    "        if not isinstance(variables, list):\n",
    "            raise ValueError('variables should be a list')\n",
    "            \n",
    "        self.variables = variables\n",
    "        self.mappings = mappings\n",
    "        \n",
    "    def fit(self, X, y=None):\n",
    "        # We need the fit statement to accomodate the sklearn pipeline:\n",
    "        return self\n",
    "    \n",
    "    def transform(self, X):\n",
    "        X = X.copy()\n",
    "        for feature in self.variables:\n",
    "            X[feature] = X[feature].map(self.mappings)\n",
    "            \n",
    "        return X    "
   ]
  }
 ],
 "metadata": {
  "kernelspec": {
   "display_name": "Python 3 (ipykernel)",
   "language": "python",
   "name": "python3"
  },
  "language_info": {
   "codemirror_mode": {
    "name": "ipython",
    "version": 3
   },
   "file_extension": ".py",
   "mimetype": "text/x-python",
   "name": "python",
   "nbconvert_exporter": "python",
   "pygments_lexer": "ipython3",
   "version": "3.11.5"
  }
 },
 "nbformat": 4,
 "nbformat_minor": 5
}
